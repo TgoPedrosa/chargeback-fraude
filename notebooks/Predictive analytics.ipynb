{
 "cells": [
  {
   "cell_type": "code",
   "execution_count": 1,
   "metadata": {},
   "outputs": [],
   "source": [
    "import pandas as pd\n",
    "import numpy as np\n",
    "import seaborn as sns\n",
    "import matplotlib.pyplot as plt\n",
    "from sklearn.linear_model import LogisticRegression\n",
    "from sklearn.tree import DecisionTreeClassifier\n",
    "from sklearn.neighbors import KNeighborsClassifier\n",
    "from sklearn.naive_bayes import GaussianNB, BernoulliNB\n",
    "from xgboost import XGBClassifier\n",
    "from sklearn.svm import SVC\n",
    "from sklearn.preprocessing import LabelEncoder, StandardScaler\n",
    "from sklearn.ensemble import RandomForestClassifier\n",
    "from sklearn.model_selection import train_test_split, RandomizedSearchCV, KFold, cross_val_score\n",
    "from sklearn.metrics import accuracy_score, precision_score, recall_score, f1_score, classification_report, confusion_matrix, precision_recall_curve, mean_absolute_error\n",
    "from sklearn.feature_selection import SelectKBest, f_classif\n"
   ]
  },
  {
   "cell_type": "code",
   "execution_count": 2,
   "metadata": {},
   "outputs": [
    {
     "data": {
      "text/html": [
       "<div>\n",
       "<style scoped>\n",
       "    .dataframe tbody tr th:only-of-type {\n",
       "        vertical-align: middle;\n",
       "    }\n",
       "\n",
       "    .dataframe tbody tr th {\n",
       "        vertical-align: top;\n",
       "    }\n",
       "\n",
       "    .dataframe thead th {\n",
       "        text-align: right;\n",
       "    }\n",
       "</style>\n",
       "<table border=\"1\" class=\"dataframe\">\n",
       "  <thead>\n",
       "    <tr style=\"text-align: right;\">\n",
       "      <th></th>\n",
       "      <th>dia</th>\n",
       "      <th>dia_semana</th>\n",
       "      <th>periodo_semana</th>\n",
       "      <th>periodo_mes</th>\n",
       "      <th>hora</th>\n",
       "      <th>hora_completa_segundos</th>\n",
       "      <th>periodo_dia</th>\n",
       "      <th>cartao</th>\n",
       "      <th>valor</th>\n",
       "      <th>media_dia</th>\n",
       "      <th>media_cartao</th>\n",
       "      <th>total_uso_cartao</th>\n",
       "      <th>cbk</th>\n",
       "      <th>vez_uso_cartao</th>\n",
       "      <th>cartao_usado_antes</th>\n",
       "    </tr>\n",
       "  </thead>\n",
       "  <tbody>\n",
       "    <tr>\n",
       "      <th>0</th>\n",
       "      <td>1</td>\n",
       "      <td>4</td>\n",
       "      <td>semana</td>\n",
       "      <td>inicio</td>\n",
       "      <td>0</td>\n",
       "      <td>114</td>\n",
       "      <td>madrugada</td>\n",
       "      <td>536518******2108</td>\n",
       "      <td>36.54</td>\n",
       "      <td>139.59</td>\n",
       "      <td>36.54</td>\n",
       "      <td>2</td>\n",
       "      <td>Não</td>\n",
       "      <td>1</td>\n",
       "      <td>False</td>\n",
       "    </tr>\n",
       "    <tr>\n",
       "      <th>1</th>\n",
       "      <td>1</td>\n",
       "      <td>4</td>\n",
       "      <td>semana</td>\n",
       "      <td>inicio</td>\n",
       "      <td>0</td>\n",
       "      <td>226</td>\n",
       "      <td>madrugada</td>\n",
       "      <td>536518******2108</td>\n",
       "      <td>36.54</td>\n",
       "      <td>139.59</td>\n",
       "      <td>36.54</td>\n",
       "      <td>2</td>\n",
       "      <td>Não</td>\n",
       "      <td>2</td>\n",
       "      <td>True</td>\n",
       "    </tr>\n",
       "    <tr>\n",
       "      <th>2</th>\n",
       "      <td>1</td>\n",
       "      <td>4</td>\n",
       "      <td>semana</td>\n",
       "      <td>inicio</td>\n",
       "      <td>0</td>\n",
       "      <td>530</td>\n",
       "      <td>madrugada</td>\n",
       "      <td>453211******1239</td>\n",
       "      <td>69.00</td>\n",
       "      <td>139.59</td>\n",
       "      <td>69.00</td>\n",
       "      <td>1</td>\n",
       "      <td>Não</td>\n",
       "      <td>1</td>\n",
       "      <td>False</td>\n",
       "    </tr>\n",
       "    <tr>\n",
       "      <th>3</th>\n",
       "      <td>1</td>\n",
       "      <td>4</td>\n",
       "      <td>semana</td>\n",
       "      <td>inicio</td>\n",
       "      <td>0</td>\n",
       "      <td>1620</td>\n",
       "      <td>madrugada</td>\n",
       "      <td>548827******1705</td>\n",
       "      <td>193.43</td>\n",
       "      <td>139.59</td>\n",
       "      <td>193.43</td>\n",
       "      <td>1</td>\n",
       "      <td>Não</td>\n",
       "      <td>1</td>\n",
       "      <td>False</td>\n",
       "    </tr>\n",
       "    <tr>\n",
       "      <th>4</th>\n",
       "      <td>1</td>\n",
       "      <td>4</td>\n",
       "      <td>semana</td>\n",
       "      <td>inicio</td>\n",
       "      <td>1</td>\n",
       "      <td>5566</td>\n",
       "      <td>madrugada</td>\n",
       "      <td>531681******9778</td>\n",
       "      <td>132.00</td>\n",
       "      <td>139.59</td>\n",
       "      <td>132.00</td>\n",
       "      <td>1</td>\n",
       "      <td>Não</td>\n",
       "      <td>1</td>\n",
       "      <td>False</td>\n",
       "    </tr>\n",
       "    <tr>\n",
       "      <th>...</th>\n",
       "      <td>...</td>\n",
       "      <td>...</td>\n",
       "      <td>...</td>\n",
       "      <td>...</td>\n",
       "      <td>...</td>\n",
       "      <td>...</td>\n",
       "      <td>...</td>\n",
       "      <td>...</td>\n",
       "      <td>...</td>\n",
       "      <td>...</td>\n",
       "      <td>...</td>\n",
       "      <td>...</td>\n",
       "      <td>...</td>\n",
       "      <td>...</td>\n",
       "      <td>...</td>\n",
       "    </tr>\n",
       "    <tr>\n",
       "      <th>10999</th>\n",
       "      <td>30</td>\n",
       "      <td>5</td>\n",
       "      <td>fds</td>\n",
       "      <td>fim</td>\n",
       "      <td>23</td>\n",
       "      <td>83327</td>\n",
       "      <td>noite</td>\n",
       "      <td>439354******5281</td>\n",
       "      <td>15.00</td>\n",
       "      <td>95.18</td>\n",
       "      <td>15.00</td>\n",
       "      <td>1</td>\n",
       "      <td>Não</td>\n",
       "      <td>1</td>\n",
       "      <td>False</td>\n",
       "    </tr>\n",
       "    <tr>\n",
       "      <th>11000</th>\n",
       "      <td>30</td>\n",
       "      <td>5</td>\n",
       "      <td>fds</td>\n",
       "      <td>fim</td>\n",
       "      <td>23</td>\n",
       "      <td>83724</td>\n",
       "      <td>noite</td>\n",
       "      <td>549167******1648</td>\n",
       "      <td>20.00</td>\n",
       "      <td>95.18</td>\n",
       "      <td>20.00</td>\n",
       "      <td>1</td>\n",
       "      <td>Não</td>\n",
       "      <td>1</td>\n",
       "      <td>False</td>\n",
       "    </tr>\n",
       "    <tr>\n",
       "      <th>11001</th>\n",
       "      <td>30</td>\n",
       "      <td>5</td>\n",
       "      <td>fds</td>\n",
       "      <td>fim</td>\n",
       "      <td>23</td>\n",
       "      <td>83861</td>\n",
       "      <td>noite</td>\n",
       "      <td>518759******8384</td>\n",
       "      <td>70.00</td>\n",
       "      <td>95.18</td>\n",
       "      <td>70.00</td>\n",
       "      <td>1</td>\n",
       "      <td>Não</td>\n",
       "      <td>1</td>\n",
       "      <td>False</td>\n",
       "    </tr>\n",
       "    <tr>\n",
       "      <th>11002</th>\n",
       "      <td>30</td>\n",
       "      <td>5</td>\n",
       "      <td>fds</td>\n",
       "      <td>fim</td>\n",
       "      <td>18</td>\n",
       "      <td>66573</td>\n",
       "      <td>tarde</td>\n",
       "      <td>455188******5104</td>\n",
       "      <td>2.10</td>\n",
       "      <td>95.18</td>\n",
       "      <td>2.10</td>\n",
       "      <td>1</td>\n",
       "      <td>Não</td>\n",
       "      <td>1</td>\n",
       "      <td>False</td>\n",
       "    </tr>\n",
       "    <tr>\n",
       "      <th>11003</th>\n",
       "      <td>30</td>\n",
       "      <td>5</td>\n",
       "      <td>fds</td>\n",
       "      <td>fim</td>\n",
       "      <td>23</td>\n",
       "      <td>85891</td>\n",
       "      <td>noite</td>\n",
       "      <td>518759******0329</td>\n",
       "      <td>20.00</td>\n",
       "      <td>95.18</td>\n",
       "      <td>20.00</td>\n",
       "      <td>1</td>\n",
       "      <td>Não</td>\n",
       "      <td>1</td>\n",
       "      <td>False</td>\n",
       "    </tr>\n",
       "  </tbody>\n",
       "</table>\n",
       "<p>11004 rows × 15 columns</p>\n",
       "</div>"
      ],
      "text/plain": [
       "       dia  dia_semana periodo_semana periodo_mes  hora   \n",
       "0        1           4         semana      inicio     0  \\\n",
       "1        1           4         semana      inicio     0   \n",
       "2        1           4         semana      inicio     0   \n",
       "3        1           4         semana      inicio     0   \n",
       "4        1           4         semana      inicio     1   \n",
       "...    ...         ...            ...         ...   ...   \n",
       "10999   30           5            fds         fim    23   \n",
       "11000   30           5            fds         fim    23   \n",
       "11001   30           5            fds         fim    23   \n",
       "11002   30           5            fds         fim    18   \n",
       "11003   30           5            fds         fim    23   \n",
       "\n",
       "       hora_completa_segundos periodo_dia            cartao   valor   \n",
       "0                         114   madrugada  536518******2108   36.54  \\\n",
       "1                         226   madrugada  536518******2108   36.54   \n",
       "2                         530   madrugada  453211******1239   69.00   \n",
       "3                        1620   madrugada  548827******1705  193.43   \n",
       "4                        5566   madrugada  531681******9778  132.00   \n",
       "...                       ...         ...               ...     ...   \n",
       "10999                   83327       noite  439354******5281   15.00   \n",
       "11000                   83724       noite  549167******1648   20.00   \n",
       "11001                   83861       noite  518759******8384   70.00   \n",
       "11002                   66573       tarde  455188******5104    2.10   \n",
       "11003                   85891       noite  518759******0329   20.00   \n",
       "\n",
       "       media_dia  media_cartao  total_uso_cartao  cbk  vez_uso_cartao   \n",
       "0         139.59         36.54                 2  Não               1  \\\n",
       "1         139.59         36.54                 2  Não               2   \n",
       "2         139.59         69.00                 1  Não               1   \n",
       "3         139.59        193.43                 1  Não               1   \n",
       "4         139.59        132.00                 1  Não               1   \n",
       "...          ...           ...               ...  ...             ...   \n",
       "10999      95.18         15.00                 1  Não               1   \n",
       "11000      95.18         20.00                 1  Não               1   \n",
       "11001      95.18         70.00                 1  Não               1   \n",
       "11002      95.18          2.10                 1  Não               1   \n",
       "11003      95.18         20.00                 1  Não               1   \n",
       "\n",
       "       cartao_usado_antes  \n",
       "0                   False  \n",
       "1                    True  \n",
       "2                   False  \n",
       "3                   False  \n",
       "4                   False  \n",
       "...                   ...  \n",
       "10999               False  \n",
       "11000               False  \n",
       "11001               False  \n",
       "11002               False  \n",
       "11003               False  \n",
       "\n",
       "[11004 rows x 15 columns]"
      ]
     },
     "execution_count": 2,
     "metadata": {},
     "output_type": "execute_result"
    }
   ],
   "source": [
    "df = pd.read_csv(\"../data/chargeback_data_final.csv\")\n",
    "df"
   ]
  },
  {
   "attachments": {},
   "cell_type": "markdown",
   "metadata": {},
   "source": [
    "### Comparando modelos"
   ]
  },
  {
   "cell_type": "code",
   "execution_count": 3,
   "metadata": {},
   "outputs": [],
   "source": [
    "def compare_models(featrues, target):    \n",
    "    # prepare models\n",
    "    models = []\n",
    "    models.append(('LR', LogisticRegression(max_iter=1000)))\n",
    "    models.append(('KNN', KNeighborsClassifier()))\n",
    "    models.append(('DTC', DecisionTreeClassifier()))\n",
    "    models.append(('GNB', GaussianNB()))\n",
    "    models.append(('BNB', BernoulliNB()))\n",
    "    models.append(('SVM', SVC()))\n",
    "    models.append(('RFC', RandomForestClassifier()))\n",
    "    models.append(('XGB', XGBClassifier()))\n",
    "    # evaluate each model in turn\n",
    "    results = []\n",
    "    names = []\n",
    "    scoring = 'accuracy'\n",
    "    X2 = featrues.copy()\n",
    "\n",
    "    # label encoding\n",
    "    le = LabelEncoder()\n",
    "    for x in ['periodo_semana', 'periodo_mes', 'periodo_dia']:\n",
    "        X2[x] = le.fit_transform(X2[x])\n",
    "\n",
    "    y_labeled = le.fit_transform(target)\n",
    "\n",
    "    X_scaled = StandardScaler().fit_transform(X2)\n",
    "\n",
    "\n",
    "    for name, model in models:\n",
    "        kfold = KFold(n_splits=10, random_state=None)\n",
    "        cv_results = cross_val_score(model, X2, y_labeled, cv=kfold, scoring=scoring)\n",
    "        results.append(cv_results)\n",
    "        names.append(name)\n",
    "        msg = \"%s: %f (%f)\" % (name, cv_results.mean(), cv_results.std())\n",
    "        print(msg)\n",
    "    # boxplot algorithm comparison\n",
    "    fig = plt.figure()\n",
    "    fig.suptitle('Algorithm Comparison')\n",
    "    ax = fig.add_subplot(111)\n",
    "    plt.boxplot(results)\n",
    "    ax.set_xticklabels(names)\n",
    "    plt.show()"
   ]
  },
  {
   "cell_type": "code",
   "execution_count": 20,
   "metadata": {},
   "outputs": [],
   "source": [
    "features_list = ['dia', 'hora', 'dia_semana', 'periodo_semana', 'periodo_mes',\n",
    "       'hora_completa_segundos', 'periodo_dia', 'valor', 'cartao_usado_antes']\n",
    "\n",
    "# Separando as features e o target\n",
    "# Sem usar media_dia, media_cartao e quantidade_uso_cartao para não ter data leakage\n",
    "X = df.loc[:,features_list]\n",
    "y = df['cbk']\n",
    "\n",
    "# Dividindo o conjunto de dados em treinamento e teste\n",
    "X_train, X_test, y_train, y_test = train_test_split(X, y, test_size=0.2, random_state=42)\n",
    "\n",
    "# label encoding\n",
    "le = LabelEncoder()\n",
    "for x in ['periodo_semana', 'periodo_mes', 'periodo_dia', 'cartao_usado_antes']:\n",
    "    X_train[x] = le.fit_transform(X_train[x])\n",
    "    X_test[x] = le.transform(X_test[x])\n",
    "\n",
    "y_train = le.fit_transform(y_train)\n",
    "y_test = le.transform(y_test)\n"
   ]
  },
  {
   "cell_type": "code",
   "execution_count": 5,
   "metadata": {},
   "outputs": [
    {
     "name": "stdout",
     "output_type": "stream",
     "text": [
      "LR: 0.947106 (0.018344)\n",
      "KNN: 0.943562 (0.015899)\n",
      "DTC: 0.919205 (0.017633)\n",
      "GNB: 0.937742 (0.031483)\n",
      "BNB: 0.947378 (0.016912)\n",
      "SVM: 0.948469 (0.016333)\n",
      "RFC: 0.948832 (0.015897)\n",
      "XGB: 0.945652 (0.016062)\n"
     ]
    },
    {
     "data": {
      "image/png": "[encoded data removed]",
      "text/plain": [
       "<Figure size 640x480 with 1 Axes>"
      ]
     },
     "metadata": {},
     "output_type": "display_data"
    }
   ],
   "source": [
    "compare_models(X, y)"
   ]
  },
  {
   "attachments": {},
   "cell_type": "markdown",
   "metadata": {},
   "source": [
    "### Random Forest Classifier"
   ]
  },
  {
   "cell_type": "code",
   "execution_count": 44,
   "metadata": {},
   "outputs": [
    {
     "data": {
      "text/plain": [
       "{'n_estimators': 300,\n",
       " 'min_samples_split': 2,\n",
       " 'min_samples_leaf': 1,\n",
       " 'max_features': 'log2',\n",
       " 'criterion': 'entropy'}"
      ]
     },
     "execution_count": 44,
     "metadata": {},
     "output_type": "execute_result"
    }
   ],
   "source": [
    "param_grid = { \n",
    "    'n_estimators': [50, 100, 200, 300],\n",
    "    'max_features': ['sqrt', 'log2'],\n",
    "    'criterion' : ['gini', 'entropy', 'log_loss'], \n",
    "    'min_samples_split' : [2, 3, 4, 5], \n",
    "    'min_samples_leaf': [1, 2, 3, 4]\n",
    "}\n",
    "\n",
    "rfc2=RandomForestClassifier(random_state=42)\n",
    "rf_RandomGrid = RandomizedSearchCV(estimator = rfc2, param_distributions = param_grid, cv = 10, n_jobs = 4, scoring='recall')\n",
    "rf_RandomGrid.fit(X_train, y_train)\n",
    "\n",
    "rf_RandomGrid.best_params_"
   ]
  },
  {
   "cell_type": "code",
   "execution_count": 21,
   "metadata": {},
   "outputs": [
    {
     "name": "stdout",
     "output_type": "stream",
     "text": [
      "Acurácia:  0.9763743752839619\n",
      "Precisão:  0.8888888888888888\n",
      "Recall:  0.5925925925925926\n",
      "F1-Score:  0.711111111111111\n",
      "              precision    recall  f1-score   support\n",
      "\n",
      "           0       0.98      1.00      0.99      2093\n",
      "           1       0.89      0.59      0.71       108\n",
      "\n",
      "    accuracy                           0.98      2201\n",
      "   macro avg       0.93      0.79      0.85      2201\n",
      "weighted avg       0.97      0.98      0.97      2201\n",
      "\n"
     ]
    }
   ],
   "source": [
    "# Criando o modelo Random Forest\n",
    "rf = RandomForestClassifier(random_state=42, max_features='log2', n_estimators= 300, criterion='entropy')\n",
    "\n",
    "# Treinando o modelo\n",
    "rf.fit(X_train, y_train)\n",
    "\n",
    "# Fazendo previsões no conjunto de teste\n",
    "y_pred = rf.predict(X_test)\n",
    "\n",
    "# Avaliando o modelo\n",
    "print('Acurácia: ', accuracy_score(y_test, y_pred))\n",
    "print('Precisão: ', precision_score(y_test, y_pred))\n",
    "print('Recall: ', recall_score(y_test, y_pred))\n",
    "print('F1-Score: ', f1_score(y_test, y_pred))\n",
    "\n",
    "print(classification_report(y_test, y_pred))"
   ]
  },
  {
   "cell_type": "code",
   "execution_count": 6,
   "metadata": {},
   "outputs": [
    {
     "data": {
      "text/plain": [
       "array([[2085,    8],\n",
       "       [  44,   64]])"
      ]
     },
     "execution_count": 6,
     "metadata": {},
     "output_type": "execute_result"
    }
   ],
   "source": [
    "confusion_matrix(y_test, y_pred)"
   ]
  },
  {
   "cell_type": "code",
   "execution_count": 6,
   "metadata": {},
   "outputs": [
    {
     "name": "stdout",
     "output_type": "stream",
     "text": [
      "Best Threshold=0.510000, F-Score=0.711\n"
     ]
    },
    {
     "data": {
      "image/png": "[encoded data removed]",
      "text/plain": [
       "<Figure size 640x480 with 1 Axes>"
      ]
     },
     "metadata": {},
     "output_type": "display_data"
    }
   ],
   "source": [
    "# predict probabilidade\n",
    "y_prob = rf.predict_proba(X_test)\n",
    "y_prob = y_prob[:, 1]\n",
    "\n",
    "# Calculando precision recall curve\n",
    "precision, recall, thresholds = precision_recall_curve(y_test, y_prob)\n",
    "# convertendo para f score\n",
    "fscore = (2 * precision * recall) / (precision + recall)\n",
    "# pegando o index com maior f score\n",
    "ix = np.argmax(fscore)\n",
    "print('Best Threshold=%f, F-Score=%.3f' % (thresholds[ix], fscore[ix]))\n",
    "# plotando precision recall curve\n",
    "no_skill = len(y_test[y_test==1]) / len(y_test)\n",
    "plt.plot([0,1], [no_skill,no_skill], linestyle='--', label='No Skill')\n",
    "plt.plot(recall, precision, marker='.', label='RFC')\n",
    "plt.scatter(recall[ix], precision[ix], marker='o', color='black', label='Best')\n",
    "\n",
    "plt.xlabel('Recall')\n",
    "plt.ylabel('Precision')\n",
    "plt.legend()\n",
    "\n",
    "plt.show()"
   ]
  },
  {
   "cell_type": "code",
   "execution_count": 10,
   "metadata": {},
   "outputs": [
    {
     "name": "stdout",
     "output_type": "stream",
     "text": [
      "Acurácia:  0.9763743752839619\n",
      "Precisão:  0.8888888888888888\n",
      "Recall:  0.5925925925925926\n",
      "F1-Score:  0.711111111111111\n",
      "              precision    recall  f1-score   support\n",
      "\n",
      "           0       0.98      1.00      0.99      2093\n",
      "           1       0.89      0.59      0.71       108\n",
      "\n",
      "    accuracy                           0.98      2201\n",
      "   macro avg       0.93      0.79      0.85      2201\n",
      "weighted avg       0.97      0.98      0.97      2201\n",
      "\n"
     ]
    }
   ],
   "source": [
    "threshold = 0.51\n",
    "\n",
    "predicted_proba = rf.predict_proba(X_test)\n",
    "y_pred_proba = (predicted_proba [:,1] >= threshold).astype('int')\n",
    "\n",
    "# Avaliando o modelo\n",
    "print('Acurácia: ', accuracy_score(y_test, y_pred_proba))\n",
    "print('Precisão: ', precision_score(y_test, y_pred_proba))\n",
    "print('Recall: ', recall_score(y_test, y_pred_proba))\n",
    "print('F1-Score: ', f1_score(y_test, y_pred_proba))\n",
    "\n",
    "print(classification_report(y_test, y_pred_proba))"
   ]
  },
  {
   "cell_type": "code",
   "execution_count": 22,
   "metadata": {},
   "outputs": [
    {
     "data": {
      "image/png": "[encoded data removed]",
      "text/plain": [
       "<Figure size 640x480 with 1 Axes>"
      ]
     },
     "metadata": {},
     "output_type": "display_data"
    }
   ],
   "source": [
    "# Feature importance\n",
    "importances = rf.feature_importances_\n",
    "std = np.std([tree.feature_importances_ for tree in rf.estimators_], axis=0)\n",
    "feature_names = [X.columns[i] for i in range(X.shape[1])]\n",
    "forest_importances = pd.Series(importances, index=feature_names)\n",
    "\n",
    "fig, ax = plt.subplots()\n",
    "forest_importances.plot.bar(yerr=std, ax=ax)\n",
    "ax.set_title(\"Feature importances using MDI\")\n",
    "ax.set_ylabel(\"Mean decrease in impurity\")\n",
    "fig.tight_layout()"
   ]
  },
  {
   "attachments": {},
   "cell_type": "markdown",
   "metadata": {},
   "source": [
    "#### Testando transformando variáveis ​​cíclicas"
   ]
  },
  {
   "cell_type": "code",
   "execution_count": 8,
   "metadata": {},
   "outputs": [
    {
     "data": {
      "image/png": "[encoded data removed]",
      "text/plain": [
       "<Figure size 640x480 with 1 Axes>"
      ]
     },
     "metadata": {},
     "output_type": "display_data"
    }
   ],
   "source": [
    "df['dia_sin'] = np.sin(2 * np.pi * df['dia']/30)\n",
    "df['dia_cos'] = np.cos(2 * np.pi * df['dia']/30)\n",
    "df['hora_sin'] = np.sin(2 * np.pi * df['hora']/24.0)\n",
    "df['hora_cos'] = np.cos(2 * np.pi * df['hora']/24.0)\n",
    "df['dia_semana_sin'] = np.sin(2 * np.pi * df['dia_semana']/7)\n",
    "df['dia_semana_cos'] = np.cos(2 * np.pi * df['dia_semana']/7)\n",
    "\n",
    "ax = df.plot.scatter('hora_sin', 'hora_cos').set_aspect('equal')"
   ]
  },
  {
   "cell_type": "code",
   "execution_count": 39,
   "metadata": {},
   "outputs": [
    {
     "data": {
      "text/plain": [
       "{'n_estimators': 300,\n",
       " 'min_samples_split': 3,\n",
       " 'min_samples_leaf': 1,\n",
       " 'max_features': 'sqrt',\n",
       " 'criterion': 'gini'}"
      ]
     },
     "execution_count": 39,
     "metadata": {},
     "output_type": "execute_result"
    }
   ],
   "source": [
    "features_list2 = ['dia_sin', 'dia_cos', 'hora_sin', 'hora_cos', 'dia_semana_sin', 'dia_semana_cos', 'periodo_semana', 'periodo_mes',\n",
    "       'hora_completa_segundos', 'periodo_dia', 'valor', 'cartao_usado_antes']\n",
    "\n",
    "# Separando as features e o target\n",
    "# Sem usar media_dia, media_cartao e quantidade_uso_cartao para não ter data leakage\n",
    "X2 = df.loc[:,features_list2]\n",
    "y2 = df['cbk']\n",
    "\n",
    "# Dividindo o conjunto de dados em treinamento e teste\n",
    "X_train2, X_test2, y_train2, y_test2 = train_test_split(X2, y2, test_size=0.2, random_state=42)\n",
    "\n",
    "# label encoding\n",
    "le = LabelEncoder()\n",
    "for x in ['periodo_semana', 'periodo_mes', 'periodo_dia', 'cartao_usado_antes']:\n",
    "    X_train2[x] = le.fit_transform(X_train2[x])\n",
    "    X_test2[x] = le.transform(X_test2[x])\n",
    "\n",
    "y_train2 = le.fit_transform(y_train2)\n",
    "y_test2 = le.transform(y_test2)\n",
    "\n",
    "\n",
    "param_grid = { \n",
    "    'n_estimators': [50, 100, 200, 300],\n",
    "    'max_features': ['sqrt', 'log2'],\n",
    "    'criterion' : ['gini', 'entropy', 'log_loss'], \n",
    "    'min_samples_split' : [2, 3, 4, 5], \n",
    "    'min_samples_leaf': [1, 2, 3, 4]\n",
    "}\n",
    "\n",
    "rfc2=RandomForestClassifier(random_state=42)\n",
    "rf_RandomGrid = RandomizedSearchCV(estimator = rfc2, param_distributions = param_grid, cv = 10, n_jobs = 4, scoring='recall')\n",
    "rf_RandomGrid.fit(X_train2, y_train2)\n",
    "\n",
    "rf_RandomGrid.best_params_"
   ]
  },
  {
   "cell_type": "code",
   "execution_count": 40,
   "metadata": {},
   "outputs": [
    {
     "name": "stdout",
     "output_type": "stream",
     "text": [
      "Acurácia:  0.9750113584734211\n",
      "Precisão:  0.9491525423728814\n",
      "Recall:  0.5185185185185185\n",
      "F1-Score:  0.6706586826347305\n",
      "              precision    recall  f1-score   support\n",
      "\n",
      "           0       0.98      1.00      0.99      2093\n",
      "           1       0.95      0.52      0.67       108\n",
      "\n",
      "    accuracy                           0.98      2201\n",
      "   macro avg       0.96      0.76      0.83      2201\n",
      "weighted avg       0.97      0.98      0.97      2201\n",
      "\n"
     ]
    }
   ],
   "source": [
    "# Criando o modelo Random Forest\n",
    "rf2 = RandomForestClassifier(random_state=42, max_features='log2', n_estimators= 200, criterion='log_loss', min_samples_split=4)\n",
    "\n",
    "# Treinando o modelo\n",
    "rf2.fit(X_train2, y_train2)\n",
    "\n",
    "# Fazendo previsões no conjunto de teste\n",
    "y_pred2 = rf2.predict(X_test2)\n",
    "\n",
    "# Avaliando o modelo\n",
    "print('Acurácia: ', accuracy_score(y_test2, y_pred2))\n",
    "print('Precisão: ', precision_score(y_test2, y_pred2))\n",
    "print('Recall: ', recall_score(y_test2, y_pred2))\n",
    "print('F1-Score: ', f1_score(y_test2, y_pred2))\n",
    "\n",
    "print(classification_report(y_test2, y_pred2))"
   ]
  },
  {
   "cell_type": "code",
   "execution_count": 41,
   "metadata": {},
   "outputs": [
    {
     "name": "stdout",
     "output_type": "stream",
     "text": [
      "Best Threshold=0.448520, F-Score=0.694\n"
     ]
    },
    {
     "data": {
      "image/png": "[encoded data removed]",
      "text/plain": [
       "<Figure size 640x480 with 1 Axes>"
      ]
     },
     "metadata": {},
     "output_type": "display_data"
    }
   ],
   "source": [
    "# predict probabilidade\n",
    "y_prob2 = rf2.predict_proba(X_test2)\n",
    "y_prob2 = y_prob2[:, 1]\n",
    "\n",
    "# Calculando precision recall curve\n",
    "precision, recall, thresholds = precision_recall_curve(y_test2, y_prob2)\n",
    "# convertendo para f score\n",
    "fscore = (2 * precision * recall) / (precision + recall)\n",
    "# pegando o index com maior f score\n",
    "ix = np.argmax(fscore)\n",
    "print('Best Threshold=%f, F-Score=%.3f' % (thresholds[ix], fscore[ix]))\n",
    "# plotando precision recall curve\n",
    "no_skill = len(y_test2[y_test2==1]) / len(y_test2)\n",
    "plt.plot([0,1], [no_skill,no_skill], linestyle='--', label='No Skill')\n",
    "plt.plot(recall, precision, marker='.', label='RFC')\n",
    "plt.scatter(recall[ix], precision[ix], marker='o', color='black', label='Best')\n",
    "\n",
    "plt.xlabel('Recall')\n",
    "plt.ylabel('Precision')\n",
    "plt.legend()\n",
    "\n",
    "plt.show()"
   ]
  },
  {
   "cell_type": "code",
   "execution_count": 43,
   "metadata": {},
   "outputs": [
    {
     "name": "stdout",
     "output_type": "stream",
     "text": [
      "Acurácia:  0.975465697410268\n",
      "Precisão:  0.921875\n",
      "Recall:  0.5462962962962963\n",
      "F1-Score:  0.686046511627907\n",
      "              precision    recall  f1-score   support\n",
      "\n",
      "           0       0.98      1.00      0.99      2093\n",
      "           1       0.92      0.55      0.69       108\n",
      "\n",
      "    accuracy                           0.98      2201\n",
      "   macro avg       0.95      0.77      0.84      2201\n",
      "weighted avg       0.97      0.98      0.97      2201\n",
      "\n"
     ]
    }
   ],
   "source": [
    "threshold = 0.45\n",
    "\n",
    "predicted_proba2 = rf2.predict_proba(X_test2)\n",
    "y_pred_proba2 = (predicted_proba2 [:,1] >= threshold).astype('int')\n",
    "\n",
    "# Avaliando o modelo\n",
    "print('Acurácia: ', accuracy_score(y_test2, y_pred_proba2))\n",
    "print('Precisão: ', precision_score(y_test2, y_pred_proba2))\n",
    "print('Recall: ', recall_score(y_test2, y_pred_proba2))\n",
    "print('F1-Score: ', f1_score(y_test2, y_pred_proba2))\n",
    "\n",
    "print(classification_report(y_test2, y_pred_proba2))"
   ]
  },
  {
   "attachments": {},
   "cell_type": "markdown",
   "metadata": {},
   "source": [
    "#### Oversampling"
   ]
  },
  {
   "cell_type": "code",
   "execution_count": 44,
   "metadata": {},
   "outputs": [
    {
     "name": "stdout",
     "output_type": "stream",
     "text": [
      "Original dataset shape Counter({0: 8344, 1: 459})\n",
      "Resampled dataset shape Counter({0: 8344, 1: 8344})\n"
     ]
    }
   ],
   "source": [
    "from imblearn.over_sampling import SMOTE\n",
    "from collections import Counter\n",
    "\n",
    "print('Original dataset shape %s' % Counter(y_train))\n",
    "\n",
    "oversample = SMOTE(random_state=42)\n",
    "X_train_o, y_train_o = oversample.fit_resample(X_train,y_train)\n",
    "print('Resampled dataset shape %s' % Counter(y_train_o))"
   ]
  },
  {
   "cell_type": "code",
   "execution_count": 46,
   "metadata": {},
   "outputs": [
    {
     "data": {
      "text/plain": [
       "{'n_estimators': 50,\n",
       " 'min_samples_split': 4,\n",
       " 'min_samples_leaf': 1,\n",
       " 'max_features': 'log2',\n",
       " 'criterion': 'gini'}"
      ]
     },
     "execution_count": 46,
     "metadata": {},
     "output_type": "execute_result"
    }
   ],
   "source": [
    "param_grid = { \n",
    "    'n_estimators': [50, 100, 200, 300],\n",
    "    'max_features': ['sqrt', 'log2'],\n",
    "    'criterion' : ['gini', 'entropy', 'log_loss'], \n",
    "    'min_samples_split' : [2, 3, 4, 5], \n",
    "    'min_samples_leaf': [1, 2, 3, 4]\n",
    "}\n",
    "\n",
    "rfc2=RandomForestClassifier(random_state=42)\n",
    "rf_RandomGrid = RandomizedSearchCV(estimator = rfc2, param_distributions = param_grid, cv = 10, n_jobs = 4, scoring='recall')\n",
    "rf_RandomGrid.fit(X_train_o, y_train_o)\n",
    "\n",
    "rf_RandomGrid.best_params_"
   ]
  },
  {
   "cell_type": "code",
   "execution_count": 48,
   "metadata": {},
   "outputs": [
    {
     "name": "stdout",
     "output_type": "stream",
     "text": [
      "Acurácia:  0.9482053611994548\n",
      "Precisão:  0.4785714285714286\n",
      "Recall:  0.6203703703703703\n",
      "F1-Score:  0.5403225806451613\n",
      "              precision    recall  f1-score   support\n",
      "\n",
      "           0       0.98      0.97      0.97      2093\n",
      "           1       0.48      0.62      0.54       108\n",
      "\n",
      "    accuracy                           0.95      2201\n",
      "   macro avg       0.73      0.79      0.76      2201\n",
      "weighted avg       0.96      0.95      0.95      2201\n",
      "\n"
     ]
    }
   ],
   "source": [
    "# Criando o modelo Random Forest\n",
    "rf_o = RandomForestClassifier(random_state=42, max_features='log2', n_estimators= 50, criterion='gini', min_samples_split=4, min_samples_leaf=1)\n",
    "\n",
    "# Treinando o modelo\n",
    "rf_o.fit(X_train_o, y_train_o)\n",
    "\n",
    "# Fazendo previsões no conjunto de teste\n",
    "y_pred_o = rf_o.predict(X_test)\n",
    "\n",
    "# Avaliando o modelo\n",
    "print('Acurácia: ', accuracy_score(y_test, y_pred_o))\n",
    "print('Precisão: ', precision_score(y_test, y_pred_o))\n",
    "print('Recall: ', recall_score(y_test, y_pred_o))\n",
    "print('F1-Score: ', f1_score(y_test, y_pred_o))\n",
    "\n",
    "print(classification_report(y_test, y_pred_o))"
   ]
  },
  {
   "attachments": {},
   "cell_type": "markdown",
   "metadata": {},
   "source": [
    "### Prevendo novas transações"
   ]
  },
  {
   "cell_type": "code",
   "execution_count": null,
   "metadata": {},
   "outputs": [],
   "source": [
    "# Carregando o data frame\n",
    "df_pred = pd.read_excel(\"../data/chargeback_data.xlsx\", sheet_name=1)\n",
    "df_pred"
   ]
  },
  {
   "cell_type": "code",
   "execution_count": null,
   "metadata": {},
   "outputs": [],
   "source": [
    "def get_day_period(time):\n",
    "    period = \"\"\n",
    "    if 6 <= time <= 12:\n",
    "        period = \"manha\"\n",
    "    elif 13 <= time <= 18:\n",
    "        period = \"tarde\"\n",
    "    elif 19 <= time <= 23:\n",
    "        period = \"noite\"\n",
    "    elif 00 <= time <= 5:\n",
    "        period = \"madrugada\"\n",
    "    return period\n",
    "\n",
    "def get_month_period(day):\n",
    "    period = \"\"\n",
    "    if 1 <= day <= 10:\n",
    "        period = \"inicio\"\n",
    "    elif 11 <= day <= 20:\n",
    "        period = \"meio\"\n",
    "    elif 21 <= day <= 31:\n",
    "        period = \"fim\"\n",
    "    return period\n",
    "\n",
    "def get_week_period(day):\n",
    "    period = \"\"\n",
    "    if day in range(0,5):\n",
    "        period = \"semana\"\n",
    "    else:\n",
    "        period = \"fds\"\n",
    "\n",
    "    return period\n",
    "\n",
    "\n",
    "df_pred_pre = df_pred.copy()\n",
    "df_pred_pre.columns= df_pred_pre.columns.str.lower()\n",
    "df_pred_pre.rename(columns={\"dia\":\"data\", \"hora\":\"hora_completa\"}, inplace=True)\n",
    "\n",
    "df_pred_pre.loc[:, \"dia\"] = pd.to_datetime(df_pred_pre.loc[:, \"data\"]).dt.day.astype(int)\n",
    "df_pred_pre.loc[:, \"periodo_mes\"] = df_pred_pre.loc[:, \"dia\"].apply(lambda x: get_month_period(x))\n",
    "df_pred_pre.loc[:, \"dia_semana\"] = pd.to_datetime(df_pred_pre.loc[:, \"data\"]).dt.day_of_week.astype(int)\n",
    "df_pred_pre.loc[:, \"periodo_semana\"] = df_pred_pre.loc[:, \"dia_semana\"].apply(lambda x: get_week_period(x))\n",
    "df_pred_pre.loc[:, \"hora\"] = df_pred_pre.loc[:, \"hora_completa\"].apply(lambda x: x.hour)\n",
    "df_pred_pre.loc[:, \"hora_completa_segundos\"] = df_pred_pre.loc[:, \"hora_completa\"].apply(lambda x: (x.hour * 60 + x.minute) * 60 + x.second)\n",
    "df_pred_pre.loc[:, \"periodo_dia\"] = df_pred_pre.loc[:, \"hora\"].apply(lambda x: get_day_period(x))\n",
    "\n",
    "\n",
    "df_pred_pre_final = df_pred_pre.loc[:, ['dia','dia_semana', 'periodo_semana', 'periodo_mes', 'hora_completa_segundos', 'periodo_dia', 'valor', 'cbk']] "
   ]
  },
  {
   "cell_type": "code",
   "execution_count": null,
   "metadata": {},
   "outputs": [],
   "source": [
    "df_pred_pre_final"
   ]
  },
  {
   "attachments": {},
   "cell_type": "markdown",
   "metadata": {},
   "source": [
    "#### Previsão do modelo"
   ]
  },
  {
   "cell_type": "code",
   "execution_count": null,
   "metadata": {},
   "outputs": [],
   "source": [
    "# label encoding\n",
    "le = LabelEncoder()\n",
    "for x in ['periodo_semana', 'periodo_mes', 'periodo_dia', 'cbk']:\n",
    "    df_pred_pre_final[x] = le.fit_transform(df_pred_pre_final[x])\n",
    "\n",
    "X = df_pred_pre_final.loc[:,:'valor']\n",
    "\n",
    "\n",
    "# Fazendo previsões\n",
    "threshold = 0.43\n",
    "\n",
    "predicted_proba = rf.predict_proba(X)\n",
    "y_pred = (predicted_proba [:,1] >= threshold).astype('int')"
   ]
  },
  {
   "cell_type": "code",
   "execution_count": null,
   "metadata": {},
   "outputs": [],
   "source": [
    "len(predicted_proba)"
   ]
  },
  {
   "cell_type": "code",
   "execution_count": null,
   "metadata": {},
   "outputs": [],
   "source": [
    "import collections\n",
    "collections.Counter(y_pred)"
   ]
  },
  {
   "cell_type": "code",
   "execution_count": null,
   "metadata": {},
   "outputs": [],
   "source": [
    "# Populando \n",
    "df_pred.loc[:,'CBK'] = y_pred\n",
    "df_pred.replace({\"CBK\": {0.0: \"Não\",\n",
    "                         1.0: \"Sim\",}},inplace=True)"
   ]
  },
  {
   "cell_type": "code",
   "execution_count": null,
   "metadata": {},
   "outputs": [],
   "source": [
    "df_pred"
   ]
  },
  {
   "cell_type": "code",
   "execution_count": null,
   "metadata": {},
   "outputs": [],
   "source": [
    "df_pred['CBK'].value_counts(normalize=True)"
   ]
  },
  {
   "cell_type": "code",
   "execution_count": null,
   "metadata": {},
   "outputs": [],
   "source": [
    "df_pred['CBK'].value_counts(normalize=True).plot(kind=\"bar\")\n",
    "plt.title('Quantidade de chargeback')\n",
    "plt.xlabel('chargeback')\n",
    "plt.xticks(rotation=0)\n",
    "plt.ylabel(\"Count\")\n",
    "plt.show()"
   ]
  },
  {
   "cell_type": "code",
   "execution_count": null,
   "metadata": {},
   "outputs": [],
   "source": [
    "df_pred.to_csv(\"../data/predicted_chargeback_data.csv\", index=False)"
   ]
  }
 ],
 "metadata": {
  "kernelspec": {
   "display_name": "venv",
   "language": "python",
   "name": "python3"
  },
  "language_info": {
   "codemirror_mode": {
    "name": "ipython",
    "version": 3
   },
   "file_extension": ".py",
   "mimetype": "text/x-python",
   "name": "python",
   "nbconvert_exporter": "python",
   "pygments_lexer": "ipython3",
   "version": "3.10.6"
  },
  "orig_nbformat": 4
 },
 "nbformat": 4,
 "nbformat_minor": 2
}
